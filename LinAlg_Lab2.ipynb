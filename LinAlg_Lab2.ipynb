{
 "cells": [
  {
   "cell_type": "markdown",
   "metadata": {},
   "source": [
    "# Linear Algebra (CpE210A)"
   ]
  },
  {
   "cell_type": "markdown",
   "metadata": {},
   "source": [
    "<h4> Laboratory 2: Plotting Vectors using NumPy and MatPlotLib </h4>"
   ]
  },
  {
   "cell_type": "markdown",
   "metadata": {},
   "source": [
    "Coded and submitted by:<br>\n",
    "Panelo, Bryan V.<br>\n",
    "58011<br>\n",
    "<br>\n",
    "##### Lab Exercises:"
   ]
  },
  {
   "cell_type": "code",
   "execution_count": 3,
   "metadata": {},
   "outputs": [],
   "source": [
    "import numpy as np\n",
    "import matplotlib.pyplot as plt\n",
    "import matplotlib\n",
    "\n",
    "%matplotlib inline"
   ]
  },
  {
   "cell_type": "markdown",
   "metadata": {},
   "source": [
    "### Part 1: Skyline Eagle Fly\n",
    "You are tasked to make a tracking device for Philippine Eagles at the Philippine Eagle Center at Davao. The tracker sensors only give the longitudinal and latitudinal distance (meters) of the eagle's position relative to their nests which we will treat as the origin of the tracking view. We want to determine the relative displacement of the eagle from its nest. It is expected that the eagles will change exactly two times, it can then be assumed that the program will show three displacements. Please make a prototype code using the additional information given below:\n",
    "<br>\n",
    "<br>\n",
    "Consider the computational algorithm:\n",
    "\n",
    "Let the eagle's longitudinal and latitudinal be  long  and  lat  respectively.\n",
    "Let the eagle's total distance as  disttotal , displacement be  disp , and  θ  as the direction of the vector."
   ]
  },
  {
   "cell_type": "markdown",
   "metadata": {},
   "source": [
    "$$_{(Eq.1)} dist_{total} = (long_{total}) \\hat{x} + (lat_{total}) \\hat{y} \\\\ \n",
    "_{(Eq.2)} disp = \\sqrt{{dist_x}^2 + {dist_y}^2}\\\\ \n",
    "_{(Eq.3)} \\theta = \\arctan{\\left(\\frac{y}{\\alpha x} \\right)}$$\n",
    "```"
   ]
  },
  {
   "cell_type": "code",
   "execution_count": 81,
   "metadata": {},
   "outputs": [],
   "source": [
    "def track_eagle(make_figs=True):\n",
    "    long = np.random.randint(-10,10, size=3)\n",
    "    lat = np.random.randint(-10,10, size=3)\n",
    "    \n",
    "    dist1 = np.array([long[0], lat[0]])\n",
    "    dist2 = np.array([long[1], lat[1]])\n",
    "    dist3 = np.array([long[2], lat[2]])\n",
    "    \n",
    "    dispTotal = dist1 + dist2 + dist3\n",
    "    displacement = np.linalg.norm(dispTotal)\n",
    "    \n",
    "    alpha = 10**-6\n",
    "    theta = np.arctan(dispTotal[1]/(dispTotal[0]+alpha))\n",
    "    theta = np.degrees(theta)\n",
    "\n",
    "    print(dist1)\n",
    "    print(dist2)\n",
    "    print(dist3)\n",
    "    print(dispTotal)\n",
    "    print(displacement)\n",
    "    print(theta)\n"
   ]
  },
  {
   "cell_type": "code",
   "execution_count": 118,
   "metadata": {},
   "outputs": [
    {
     "data": {
      "image/png": "[encoded data removed]",
      "text/plain": [
       "<Figure size 720x720 with 1 Axes>"
      ]
     },
     "metadata": {
      "needs_background": "light"
     },
     "output_type": "display_data"
    }
   ],
   "source": [
    "  ## Plotting the PH Eagle flight vectors.\n",
    "plt.figure(figsize=(10,10))\n",
    "plt.title('Philippine Eagle Flight Plotter')\n",
    "plt.xlim(-30, 30)\n",
    "plt.ylim(-30, 30)\n",
    "plt.xlabel('Latitudinal Distance')\n",
    "plt.ylabel('Longitudinal Distance')\n",
    "plt.grid()\n",
    "n = 2\n",
    "##From the first cell!!!!\n",
    "\n",
    "def track_eagle(make_figs=True):\n",
    " long = np.random.randint(-10,10, size=3)\n",
    "lat = np.random.randint(-10,10, size=3)\n",
    "    \n",
    "dist1 = np.array([long[0], lat[0]])\n",
    "dist2 = np.array([long[1], lat[1]])\n",
    "dist3 = np.array([long[2], lat[2]])\n",
    " \n",
    "dispTotal = dist1 + dist2 + dist3\n",
    "displacement = np.linalg.norm(dispTotal)\n",
    "    \n",
    "alpha = 10**-6\n",
    "theta = np.arctan(dispTotal[1]/(dispTotal[0]+alpha))\n",
    "theta = np.degrees(theta)\n",
    "\n",
    "plt.quiver(0,0, dist1[0], dist1[1], \n",
    "               angles='xy', scale_units='xy',scale=1, color='red', \n",
    "               label='Trajectory 1: {:.2f}m.'.format(np.linalg.norm(dist1)))\n",
    "plt.quiver(dist1[0], dist1[1], dist2[0], dist2[1], \n",
    "               angles='xy', scale_units='xy',scale=1, color='blue',\n",
    "              label='Trajectory 2: {:.2f}m.'.format(np.linalg.norm(dist2)))\n",
    "plt.quiver(np.add(dist1[0],dist2[0]), np.add(dist1[1],dist2[1]),\n",
    "               dist3[0], dist3[1], angles='xy', scale_units='xy',scale=1, color='green',\n",
    "              label='Trajectory 3: {:.2f}m.'.format(np.linalg.norm(dist3)))\n",
    "plt.quiver(0,0, dispTotal[0], dispTotal[1], \n",
    "               angles='xy', scale_units='xy',scale=1, color='orange',\n",
    "              label='Displacement: {:.2f}m. @ {:.2f}'.format(displacement, theta))\n",
    "    \n",
    "plt.legend()\n",
    "\n",
    "def track_eagle(make_figs=True):\n",
    " if make_figs:\n",
    "        plt.savefig(f'LinAlg-Lab2-PH Eagle-{int(disp)}@{int(theta)}.png', dpi=300)\n",
    "    \n",
    "plt.show()"
   ]
  },
  {
   "cell_type": "markdown",
   "metadata": {},
   "source": [
    "<br>"
   ]
  },
  {
   "cell_type": "markdown",
   "metadata": {},
   "source": [
    "### Part 2: Reverse Engineering\n",
    "Your project manager found out that the previous engineer that handled the project did some sort of algorithm regarding the eagles. He gave you the piece code for you to analyze and required you to make a documentation out of it. The code is given below\n"
   ]
  },
  {
   "cell_type": "code",
   "execution_count": 84,
   "metadata": {},
   "outputs": [],
   "source": [
    "def eagle_kinematics(s, t):\n",
    "    req_shape = 4\n",
    "    v = np.zeros((req_shape-1,))\n",
    "    a = np.zeros((req_shape-2,))\n",
    "    t_vect = np.array([t**3, t**2, t, 1])\n",
    "    if s.shape == (req_shape,):\n",
    "        v = np.array([3*s[0],2*s[1], s[2]])\n",
    "        a = np.array([2*v[0],v[1]])\n",
    "        s_t = np.sum(np.multiply(s, t_vect))\n",
    "        v_t = np.sum(np.multiply(v, t_vect[1:]))\n",
    "        a_t = np.sum(np.multiply(a, t_vect[2:]))\n",
    "        \n",
    "    else:\n",
    "        print(f'Input displacement vector is not valid. Make sure that the vector shape is ({req_shape},)')\n",
    "    \n",
    "    return s_t, v_t, a_t"
   ]
  },
  {
   "cell_type": "code",
   "execution_count": 85,
   "metadata": {},
   "outputs": [
    {
     "data": {
      "text/plain": [
       "(28, 31, 26)"
      ]
     },
     "execution_count": 85,
     "metadata": {},
     "output_type": "execute_result"
    }
   ],
   "source": [
    "x = np.array([2,1,3,2])\n",
    "t = 2\n",
    "eagle_kinematics(x, t)"
   ]
  },
  {
   "cell_type": "markdown",
   "metadata": {},
   "source": [
    "<br>"
   ]
  },
  {
   "cell_type": "markdown",
   "metadata": {},
   "source": [
    "<br>"
   ]
  },
  {
   "cell_type": "markdown",
   "metadata": {},
   "source": [
    "## Part 3: Bebang's Online Business\n",
    "You have a friend named Bebang who has an online business in which she sells donuts. She asks you to make something that helps her to observe the increase and decrease of her profit considering the reach of her online posts. As novice data analytic engineers, you suggest to make a plotter using vectors of her weekly profit and FB post reach for a month. She is amazed that you have this idea and will pay you 15,000 PHP for the program. Thus you venture in implementing your idea with the PH Eagle Tracker as the base code.\n"
   ]
  },
  {
   "cell_type": "code",
   "execution_count": 7,
   "metadata": {},
   "outputs": [],
   "source": [
    "def month_profit_trace(profit = np.array([1000, 100, 500, 10]),\n",
    "                        reach = np.array([-18000, 3000, 12000, 10000]),\n",
    "                        make_figs=True):\n",
    "    if (profit.shape == (4,)) and (reach.shape == (4,)):\n",
    "#         reach  = np.array([1000, 100, 500, 10]) \n",
    "#         profit = np.array([-18000, 3000, 12000, 10000])\n",
    "        \n",
    "        week1 = np.array((reach[0], profit[0]))       \n",
    "        week2 = np.array((reach[1], profit[1]))\n",
    "        week3 = np.array((reach[2], profit[2]))\n",
    "        week4 = np.array((reach[3], profit[3]))\n",
    "        \n",
    "        week_total = week1 + week2 + week3 + week4    \n",
    "        week_performance = np.linalg.norm(week_total)\n",
    "        alpha = 10**-6\n",
    "        reach_gradient = np.arctan(week_total[1]/(week_total[0]+alpha))\n",
    "       \n",
    "        print(week1)\n",
    "        print(week2)\n",
    "        print(week3)\n",
    "        print(week4)\n",
    "        print(week_total)\n",
    "        print(week_performance)"
   ]
  },
  {
   "cell_type": "code",
   "execution_count": 9,
   "metadata": {},
   "outputs": [
    {
     "name": "stdout",
     "output_type": "stream",
     "text": [
      "[-18000   1000]\n",
      "[3000  100]\n",
      "[12000   500]\n",
      "[10000    10]\n",
      "[7000 1610]\n",
      "7182.764091907794\n"
     ]
    }
   ],
   "source": [
    "month_profit_trace()\n"
   ]
  },
  {
   "cell_type": "code",
   "execution_count": 20,
   "metadata": {},
   "outputs": [
    {
     "ename": "SyntaxError",
     "evalue": "invalid syntax (<ipython-input-20-a160a5d23d76>, line 59)",
     "output_type": "error",
     "traceback": [
      "\u001b[1;36m  File \u001b[1;32m\"<ipython-input-20-a160a5d23d76>\"\u001b[1;36m, line \u001b[1;32m59\u001b[0m\n\u001b[1;33m    else:\u001b[0m\n\u001b[1;37m    ^\u001b[0m\n\u001b[1;31mSyntaxError\u001b[0m\u001b[1;31m:\u001b[0m invalid syntax\n"
     ]
    }
   ],
   "source": [
    "def month_profit_trace(profit = np.array([1000, 100, 500, 10]),\n",
    "                        reach = np.array([-18000, 3000, 12000, 10000]),\n",
    "                        make_figs=True):\n",
    "    if (profit.shape == (4,)) and (reach.shape == (4,)):\n",
    "#         reach  = np.array([1000, 100, 500, 10]) \n",
    "#         profit = np.array([-18000, 3000, 12000, 10000])\n",
    "        \n",
    "        week1 = np.array((reach[0], profit[0]))       \n",
    "        week2 = np.array((reach[1], profit[1]))\n",
    "        week3 = np.array((reach[2], profit[2]))\n",
    "        week4 = np.array((reach[3], profit[3]))\n",
    "        \n",
    "        week_total = week1 + week2 + week3 + week4    \n",
    "        week_performance = np.linalg.norm(week_total)\n",
    "        alpha = 10**-6\n",
    "        reach_gradient = np.arctan(week_total[1]/(week_total[0]+alpha))\n",
    "        \n",
    "plt.figure(figsize=(16,5))\n",
    "plt.title('Bebang\\'s Month Post Efficiency')\n",
    "plt.xlim(0,1.01*np.sum(reach))\n",
    "plt.ylim(-np.sum(np.abs(profit)),np.sum(np.abs(profit)))\n",
    "plt.xlabel('FB Post Reach Increment')\n",
    "plt.ylabel('Profit')\n",
    "plt.grid()\n",
    "n = 2\n",
    "\n",
    "        #Week 1\n",
    "plt.quiver(0,0, week1[0], week1[1], \n",
    "                   angles='xy', scale_units='xy',scale=1, color='red', width=0.0025,\n",
    "                   label='Week 1: {:.2f}'.format(np.linalg.norm(week1)))\n",
    "        #Week 2\n",
    "plt.quiver(week1[0], week1[1], week2[0], week2[1], \n",
    "                   angles='xy', scale_units='xy',scale=1, color='green', width=0.0025, \n",
    "                   label='Week 2: {:.2f}'.format(np.linalg.norm(week2)))\n",
    "        #Week 3\n",
    "plt.quiver((week1[0] + week2[0]), (week1[1] + week2[1]), week3[0], week3[1], \n",
    "                   angles='xy', scale_units='xy',scale=1, color='blue', width=0.0025, \n",
    "                   label='Week 3: {:.2f}'.format(np.linalg.norm(week3)))\n",
    "        #Week 4\n",
    "plt.quiver((week1[0] + week2[0] + week3[0]), (week1[1] + week2[1] + week3[1]), week4[0], week4[1], \n",
    "                   angles='xy', scale_units='xy',scale=1, color='yellowgreen', width=0.0025, \n",
    "                   label='Week 4: {:.2f}'.format(np.linalg.norm(week4)))\n",
    "             \n",
    "        \n",
    "        #Efficiency\n",
    "plt.quiver(0,0, week_total[0], week_total[1], \n",
    "                   angles='xy', scale_units='xy',scale=1, color='orange', width=0.005, \n",
    "                   label='Efficiency: {:.2f} @ {:.2f}'.format(week_performance, reach_gradient))\n",
    "\n",
    "plt.legend(loc='upper left')\n",
    "\n",
    "\n",
    "def month_profit_trace(profit = np.array([1000, 100, 500, 10]),\n",
    "                        reach = np.array([-18000, 3000, 12000, 10000]),\n",
    "                        make_figs=True):\n",
    "\n",
    " if make_figs:\n",
    "            plt.savefig(f'LinAlg-Lab2-Bebang Post Eff-{int(week_performance)}@{int(reach_gradient)}.png', dpi=300)\n",
    "\n",
    "plt.show()\n",
    "\n",
    "else:\n",
    "        print('The value you entered cannot be applied')"
   ]
  }
 ],
 "metadata": {
  "kernelspec": {
   "display_name": "Python 3",
   "language": "python",
   "name": "python3"
  },
  "language_info": {
   "codemirror_mode": {
    "name": "ipython",
    "version": 3
   },
   "file_extension": ".py",
   "mimetype": "text/x-python",
   "name": "python",
   "nbconvert_exporter": "python",
   "pygments_lexer": "ipython3",
   "version": "3.8.3"
  }
 },
 "nbformat": 4,
 "nbformat_minor": 4
}
